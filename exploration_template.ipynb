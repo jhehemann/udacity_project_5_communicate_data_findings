{
 "cells": [
  {
   "cell_type": "markdown",
   "metadata": {},
   "source": [
    "# Exploration of Pisa Data\n",
    "## by Jannik Hehemann\n",
    "\n",
    "## Preliminary Wrangling\n",
    "\n",
    "> The dataset I will explore and analyze in this project is a dataset of a PISA study, where information about students all over the world are were gathered. The information contain individual learning attitudes and skills as well as socio-economic, psychological and other environmental factors. I want to investigate correlations between learning success (grades) and origin as well as gender."
   ]
  },
  {
   "cell_type": "code",
   "execution_count": 70,
   "metadata": {},
   "outputs": [],
   "source": [
    "# import all packages and set plots to be embedded inline\n",
    "import numpy as np\n",
    "import pandas as pd\n",
    "import matplotlib.pyplot as plt\n",
    "import seaborn as sb\n",
    "from matplotlib import rcParams\n",
    "\n",
    "%matplotlib inline"
   ]
  },
  {
   "cell_type": "markdown",
   "metadata": {},
   "source": [
    "> Firstly I load in the pisa-dataset and describe its properties through the questions below."
   ]
  },
  {
   "cell_type": "code",
   "execution_count": 2,
   "metadata": {},
   "outputs": [
    {
     "name": "stderr",
     "output_type": "stream",
     "text": [
      "/opt/anaconda3/lib/python3.7/site-packages/IPython/core/interactiveshell.py:3063: DtypeWarning: Columns (15,16,17,21,22,23,24,25,26,30,31,36,37,45,65,123,155,156,157,158,159,160,161,162,163,164,165,166,167,168,169,170,171,284,285,286,287,288,289,290,291,292,293,294,295,296,297,298,299,300,301,302,303,307,308,309,310,311,312,313,314,315,316,317,318,319,320,321,322,323,324,325,326,327,328,329,330,331,332,333,334,335,336,337,338,339,340,341,342,343,344,345,346,347,348,349,350,351,352,353,354,355,356,357,376,377,378,379,380,381,382,383,384,385,386,387,388,389,390,391,392,393,394,395,396,397,398,399,400,401,402,403,475) have mixed types.Specify dtype option on import or set low_memory=False.\n",
      "  interactivity=interactivity, compiler=compiler, result=result)\n"
     ]
    },
    {
     "data": {
      "text/html": [
       "<div>\n",
       "<style scoped>\n",
       "    .dataframe tbody tr th:only-of-type {\n",
       "        vertical-align: middle;\n",
       "    }\n",
       "\n",
       "    .dataframe tbody tr th {\n",
       "        vertical-align: top;\n",
       "    }\n",
       "\n",
       "    .dataframe thead th {\n",
       "        text-align: right;\n",
       "    }\n",
       "</style>\n",
       "<table border=\"1\" class=\"dataframe\">\n",
       "  <thead>\n",
       "    <tr style=\"text-align: right;\">\n",
       "      <th></th>\n",
       "      <th>Unnamed: 0</th>\n",
       "      <th>CNT</th>\n",
       "      <th>SUBNATIO</th>\n",
       "      <th>STRATUM</th>\n",
       "      <th>OECD</th>\n",
       "      <th>NC</th>\n",
       "      <th>SCHOOLID</th>\n",
       "      <th>STIDSTD</th>\n",
       "      <th>ST01Q01</th>\n",
       "      <th>ST02Q01</th>\n",
       "      <th>...</th>\n",
       "      <th>W_FSTR75</th>\n",
       "      <th>W_FSTR76</th>\n",
       "      <th>W_FSTR77</th>\n",
       "      <th>W_FSTR78</th>\n",
       "      <th>W_FSTR79</th>\n",
       "      <th>W_FSTR80</th>\n",
       "      <th>WVARSTRR</th>\n",
       "      <th>VAR_UNIT</th>\n",
       "      <th>SENWGT_STU</th>\n",
       "      <th>VER_STU</th>\n",
       "    </tr>\n",
       "  </thead>\n",
       "  <tbody>\n",
       "    <tr>\n",
       "      <th>0</th>\n",
       "      <td>1</td>\n",
       "      <td>Albania</td>\n",
       "      <td>80000</td>\n",
       "      <td>ALB0006</td>\n",
       "      <td>Non-OECD</td>\n",
       "      <td>Albania</td>\n",
       "      <td>1</td>\n",
       "      <td>1</td>\n",
       "      <td>10</td>\n",
       "      <td>1.0</td>\n",
       "      <td>...</td>\n",
       "      <td>13.7954</td>\n",
       "      <td>13.9235</td>\n",
       "      <td>13.1249</td>\n",
       "      <td>13.1249</td>\n",
       "      <td>4.3389</td>\n",
       "      <td>13.0829</td>\n",
       "      <td>19</td>\n",
       "      <td>1</td>\n",
       "      <td>0.2098</td>\n",
       "      <td>22NOV13</td>\n",
       "    </tr>\n",
       "    <tr>\n",
       "      <th>1</th>\n",
       "      <td>2</td>\n",
       "      <td>Albania</td>\n",
       "      <td>80000</td>\n",
       "      <td>ALB0006</td>\n",
       "      <td>Non-OECD</td>\n",
       "      <td>Albania</td>\n",
       "      <td>1</td>\n",
       "      <td>2</td>\n",
       "      <td>10</td>\n",
       "      <td>1.0</td>\n",
       "      <td>...</td>\n",
       "      <td>13.7954</td>\n",
       "      <td>13.9235</td>\n",
       "      <td>13.1249</td>\n",
       "      <td>13.1249</td>\n",
       "      <td>4.3389</td>\n",
       "      <td>13.0829</td>\n",
       "      <td>19</td>\n",
       "      <td>1</td>\n",
       "      <td>0.2098</td>\n",
       "      <td>22NOV13</td>\n",
       "    </tr>\n",
       "    <tr>\n",
       "      <th>2</th>\n",
       "      <td>3</td>\n",
       "      <td>Albania</td>\n",
       "      <td>80000</td>\n",
       "      <td>ALB0006</td>\n",
       "      <td>Non-OECD</td>\n",
       "      <td>Albania</td>\n",
       "      <td>1</td>\n",
       "      <td>3</td>\n",
       "      <td>9</td>\n",
       "      <td>1.0</td>\n",
       "      <td>...</td>\n",
       "      <td>12.7307</td>\n",
       "      <td>12.7307</td>\n",
       "      <td>12.7307</td>\n",
       "      <td>12.7307</td>\n",
       "      <td>4.2436</td>\n",
       "      <td>12.7307</td>\n",
       "      <td>19</td>\n",
       "      <td>1</td>\n",
       "      <td>0.1999</td>\n",
       "      <td>22NOV13</td>\n",
       "    </tr>\n",
       "    <tr>\n",
       "      <th>3</th>\n",
       "      <td>4</td>\n",
       "      <td>Albania</td>\n",
       "      <td>80000</td>\n",
       "      <td>ALB0006</td>\n",
       "      <td>Non-OECD</td>\n",
       "      <td>Albania</td>\n",
       "      <td>1</td>\n",
       "      <td>4</td>\n",
       "      <td>9</td>\n",
       "      <td>1.0</td>\n",
       "      <td>...</td>\n",
       "      <td>12.7307</td>\n",
       "      <td>12.7307</td>\n",
       "      <td>12.7307</td>\n",
       "      <td>12.7307</td>\n",
       "      <td>4.2436</td>\n",
       "      <td>12.7307</td>\n",
       "      <td>19</td>\n",
       "      <td>1</td>\n",
       "      <td>0.1999</td>\n",
       "      <td>22NOV13</td>\n",
       "    </tr>\n",
       "    <tr>\n",
       "      <th>4</th>\n",
       "      <td>5</td>\n",
       "      <td>Albania</td>\n",
       "      <td>80000</td>\n",
       "      <td>ALB0006</td>\n",
       "      <td>Non-OECD</td>\n",
       "      <td>Albania</td>\n",
       "      <td>1</td>\n",
       "      <td>5</td>\n",
       "      <td>9</td>\n",
       "      <td>1.0</td>\n",
       "      <td>...</td>\n",
       "      <td>12.7307</td>\n",
       "      <td>12.7307</td>\n",
       "      <td>12.7307</td>\n",
       "      <td>12.7307</td>\n",
       "      <td>4.2436</td>\n",
       "      <td>12.7307</td>\n",
       "      <td>19</td>\n",
       "      <td>1</td>\n",
       "      <td>0.1999</td>\n",
       "      <td>22NOV13</td>\n",
       "    </tr>\n",
       "  </tbody>\n",
       "</table>\n",
       "<p>5 rows × 636 columns</p>\n",
       "</div>"
      ],
      "text/plain": [
       "   Unnamed: 0      CNT  SUBNATIO  STRATUM      OECD       NC  SCHOOLID  \\\n",
       "0           1  Albania     80000  ALB0006  Non-OECD  Albania         1   \n",
       "1           2  Albania     80000  ALB0006  Non-OECD  Albania         1   \n",
       "2           3  Albania     80000  ALB0006  Non-OECD  Albania         1   \n",
       "3           4  Albania     80000  ALB0006  Non-OECD  Albania         1   \n",
       "4           5  Albania     80000  ALB0006  Non-OECD  Albania         1   \n",
       "\n",
       "   STIDSTD  ST01Q01  ST02Q01  ...  W_FSTR75  W_FSTR76 W_FSTR77 W_FSTR78  \\\n",
       "0        1       10      1.0  ...   13.7954   13.9235  13.1249  13.1249   \n",
       "1        2       10      1.0  ...   13.7954   13.9235  13.1249  13.1249   \n",
       "2        3        9      1.0  ...   12.7307   12.7307  12.7307  12.7307   \n",
       "3        4        9      1.0  ...   12.7307   12.7307  12.7307  12.7307   \n",
       "4        5        9      1.0  ...   12.7307   12.7307  12.7307  12.7307   \n",
       "\n",
       "   W_FSTR79 W_FSTR80 WVARSTRR VAR_UNIT SENWGT_STU  VER_STU  \n",
       "0    4.3389  13.0829       19        1     0.2098  22NOV13  \n",
       "1    4.3389  13.0829       19        1     0.2098  22NOV13  \n",
       "2    4.2436  12.7307       19        1     0.1999  22NOV13  \n",
       "3    4.2436  12.7307       19        1     0.1999  22NOV13  \n",
       "4    4.2436  12.7307       19        1     0.1999  22NOV13  \n",
       "\n",
       "[5 rows x 636 columns]"
      ]
     },
     "execution_count": 2,
     "metadata": {},
     "output_type": "execute_result"
    }
   ],
   "source": [
    "pisa = pd.read_csv('pisa2012.csv', encoding='latin-1')\n",
    "pisa.head()"
   ]
  },
  {
   "cell_type": "markdown",
   "metadata": {},
   "source": [
    "### What is the structure of your dataset?\n",
    "\n"
   ]
  },
  {
   "cell_type": "code",
   "execution_count": 3,
   "metadata": {},
   "outputs": [
    {
     "name": "stdout",
     "output_type": "stream",
     "text": [
      "<class 'pandas.core.frame.DataFrame'>\n",
      "RangeIndex: 485490 entries, 0 to 485489\n",
      "Columns: 636 entries, Unnamed: 0 to VER_STU\n",
      "dtypes: float64(250), int64(18), object(368)\n",
      "memory usage: 2.3+ GB\n"
     ]
    }
   ],
   "source": [
    "pisa.info()"
   ]
  },
  {
   "cell_type": "markdown",
   "metadata": {},
   "source": [
    "#### This dataset has 485490 entries (rows) with 636 columns describing the data. The datatypes in this dataset are 250 float64, 18 int64 and 368 object. "
   ]
  },
  {
   "cell_type": "code",
   "execution_count": 6,
   "metadata": {},
   "outputs": [
    {
     "data": {
      "text/plain": [
       "count    485490.000000\n",
       "mean          9.813323\n",
       "std           3.734726\n",
       "min           7.000000\n",
       "25%           9.000000\n",
       "50%          10.000000\n",
       "75%          10.000000\n",
       "max          96.000000\n",
       "Name: ST01Q01, dtype: float64"
      ]
     },
     "execution_count": 6,
     "metadata": {},
     "output_type": "execute_result"
    }
   ],
   "source": [
    "# international grade\n",
    "pisa['ST01Q01'].describe()"
   ]
  },
  {
   "cell_type": "code",
   "execution_count": 9,
   "metadata": {},
   "outputs": [
    {
     "data": {
      "text/plain": [
       "ISCED 5A, 6          159942\n",
       "ISCED 3A, ISCED 4    123304\n",
       "ISCED 5B              74131\n",
       "ISCED 2               51506\n",
       "ISCED 3B, C           30469\n",
       "ISCED 1               25284\n",
       "None                   8455\n",
       "Name: HISCED, dtype: int64"
      ]
     },
     "execution_count": 9,
     "metadata": {},
     "output_type": "execute_result"
    }
   ],
   "source": [
    "# Highest educational level of parents\n",
    "pisa['HISCED'].value_counts()"
   ]
  },
  {
   "cell_type": "code",
   "execution_count": 10,
   "metadata": {},
   "outputs": [
    {
     "data": {
      "text/plain": [
       "count    450621.000000\n",
       "mean         48.923298\n",
       "std          22.120953\n",
       "min          11.010000\n",
       "25%          28.520000\n",
       "50%          48.820000\n",
       "75%          70.340000\n",
       "max          88.960000\n",
       "Name: HISEI, dtype: float64"
      ]
     },
     "execution_count": 10,
     "metadata": {},
     "output_type": "execute_result"
    }
   ],
   "source": [
    "# Highest parental occupational status\n",
    "pisa['HISEI'].describe()"
   ]
  },
  {
   "cell_type": "code",
   "execution_count": 11,
   "metadata": {},
   "outputs": [
    {
     "data": {
      "text/plain": [
       "Native               417347\n",
       "Second-Generation     28268\n",
       "First-Generation      26178\n",
       "Name: IMMIG, dtype: int64"
      ]
     },
     "execution_count": 11,
     "metadata": {},
     "output_type": "execute_result"
    }
   ],
   "source": [
    "# Immigration status\n",
    "pisa['IMMIG'].value_counts()"
   ]
  },
  {
   "cell_type": "code",
   "execution_count": 12,
   "metadata": {},
   "outputs": [
    {
     "data": {
      "text/plain": [
       "Female    245064\n",
       "Male      240426\n",
       "Name: ST04Q01, dtype: int64"
      ]
     },
     "execution_count": 12,
     "metadata": {},
     "output_type": "execute_result"
    }
   ],
   "source": [
    "# gender\n",
    "pisa['ST04Q01'].value_counts()"
   ]
  },
  {
   "cell_type": "markdown",
   "metadata": {},
   "source": [
    "### What is/are the main feature(s) of interest in your dataset?\n",
    "- ST01Q01 - International Grade\n",
    "- GRADE - Grade compared to modal grade in country\n",
    "- IMMIG - Immigration status\n",
    "\n",
    "\n",
    "Is there a difference between the grades of a students with immigration background. What additionall acculturation features might correlate with that.  "
   ]
  },
  {
   "cell_type": "markdown",
   "metadata": {},
   "source": [
    "### What features in the dataset do you think will help support your investigation into your feature(s) of interest?\n"
   ]
  },
  {
   "cell_type": "markdown",
   "metadata": {},
   "source": [
    "- OECD - OECD country\n",
    "- CNT - Country code 3-character\n",
    "- ST04Q01 - Gender"
   ]
  },
  {
   "cell_type": "markdown",
   "metadata": {},
   "source": [
    "## Univariate Exploration\n",
    "\n",
    "> In this section, I investigate distributions of individual variables. If\n",
    "I see unusual points or outliers, I will take a deeper look to clean things up\n",
    "and prepare myself to look at relationships between variables."
   ]
  },
  {
   "cell_type": "markdown",
   "metadata": {},
   "source": [
    "### International Grade"
   ]
  },
  {
   "cell_type": "markdown",
   "metadata": {},
   "source": [
    "> I will start the exploration by looking at some general features of the variable using the functions `describe()` `value_counts()` and `head()`."
   ]
  },
  {
   "cell_type": "code",
   "execution_count": 14,
   "metadata": {},
   "outputs": [
    {
     "data": {
      "text/plain": [
       "count    485490.000000\n",
       "mean          9.813323\n",
       "std           3.734726\n",
       "min           7.000000\n",
       "25%           9.000000\n",
       "50%          10.000000\n",
       "75%          10.000000\n",
       "max          96.000000\n",
       "Name: ST01Q01, dtype: float64"
      ]
     },
     "execution_count": 14,
     "metadata": {},
     "output_type": "execute_result"
    }
   ],
   "source": [
    "pisa['ST01Q01'].describe()"
   ]
  },
  {
   "cell_type": "code",
   "execution_count": 15,
   "metadata": {},
   "outputs": [
    {
     "data": {
      "text/plain": [
       "10    262631\n",
       "9     152850\n",
       "11     38397\n",
       "8      23764\n",
       "7       3536\n",
       "12      3436\n",
       "96       873\n",
       "13         3\n",
       "Name: ST01Q01, dtype: int64"
      ]
     },
     "execution_count": 15,
     "metadata": {},
     "output_type": "execute_result"
    }
   ],
   "source": [
    "pisa['ST01Q01'].value_counts()"
   ]
  },
  {
   "cell_type": "code",
   "execution_count": 16,
   "metadata": {},
   "outputs": [
    {
     "data": {
      "text/plain": [
       "0    10\n",
       "1    10\n",
       "2     9\n",
       "3     9\n",
       "4     9\n",
       "Name: ST01Q01, dtype: int64"
      ]
     },
     "execution_count": 16,
     "metadata": {},
     "output_type": "execute_result"
    }
   ],
   "source": [
    "pisa['ST01Q01'].head()"
   ]
  },
  {
   "cell_type": "markdown",
   "metadata": {},
   "source": [
    ">The variable is of type integer, has its minimum at 7 and its maximum at 96. The `value_counts`funcion revealed that the value 96 are outliers. I am going to visualize the distribution in a histogram in the next step."
   ]
  },
  {
   "cell_type": "code",
   "execution_count": 17,
   "metadata": {},
   "outputs": [
    {
     "data": {
      "image/png": "[encoded data removed]",
      "text/plain": [
       "<Figure size 432x288 with 1 Axes>"
      ]
     },
     "metadata": {
      "needs_background": "light"
     },
     "output_type": "display_data"
    }
   ],
   "source": [
    "# plotting histogram of international grades distribution\n",
    "plt.hist(data = pisa, x = 'ST01Q01');"
   ]
  },
  {
   "cell_type": "markdown",
   "metadata": {},
   "source": [
    ">The histogram confirmed what the data indicated. For better visualization I will rescale the x axis with `log10`."
   ]
  },
  {
   "cell_type": "code",
   "execution_count": 18,
   "metadata": {},
   "outputs": [
    {
     "data": {
      "text/plain": [
       "count    5.686180\n",
       "mean     0.991816\n",
       "std      0.572259\n",
       "min      0.845098\n",
       "25%      0.954243\n",
       "50%      1.000000\n",
       "75%      1.000000\n",
       "max      1.982271\n",
       "Name: ST01Q01, dtype: float64"
      ]
     },
     "execution_count": 18,
     "metadata": {},
     "output_type": "execute_result"
    }
   ],
   "source": [
    "np.log10(pisa['ST01Q01'].describe())"
   ]
  },
  {
   "cell_type": "code",
   "execution_count": 19,
   "metadata": {},
   "outputs": [
    {
     "data": {
      "image/png": "[encoded data removed]",
      "text/plain": [
       "<Figure size 432x288 with 1 Axes>"
      ]
     },
     "metadata": {
      "needs_background": "light"
     },
     "output_type": "display_data"
    }
   ],
   "source": [
    "# rescale the histogram\n",
    "bins = 10 ** np.arange(0.5, 2+0.1, 0.05)\n",
    "ticks = [1, 3, 10, 30, 100]\n",
    "labels = ['{}'.format(v) for v in ticks]\n",
    "plt.hist(data = pisa, x = 'ST01Q01', bins = bins);\n",
    "plt.xscale('log');\n",
    "plt.xticks(ticks, labels);"
   ]
  },
  {
   "cell_type": "markdown",
   "metadata": {},
   "source": [
    "> The histogram looks better, but can still be optimized for better consumption. In the next visualization I will ignore the outliers of value 96 and plot a histogram without a scaled but with a limited range on the x-axis."
   ]
  },
  {
   "cell_type": "code",
   "execution_count": 20,
   "metadata": {},
   "outputs": [
    {
     "data": {
      "image/png": "[encoded data removed]",
      "text/plain": [
       "<Figure size 432x288 with 1 Axes>"
      ]
     },
     "metadata": {
      "needs_background": "light"
     },
     "output_type": "display_data"
    }
   ],
   "source": [
    "# exclude the outliers (score 96) and zoom into the interesting part\n",
    "# change bin size, axis limits and axis ticks\n",
    "bins = np.arange(0.5, pisa['ST01Q01'].max()+0.5, 1)\n",
    "plt.hist(data = pisa, x = 'ST01Q01', bins = bins);\n",
    "plt.xticks(np.arange(1, 21, 1));\n",
    "plt.xlim((5,15));\n"
   ]
  },
  {
   "cell_type": "markdown",
   "metadata": {},
   "source": [
    "> This looks quite nice. The histogram shows that the data is rather normally distributed and has its peak at 10. For better comparism I will plot the two histograms with the differend scaled and ranges of x-axis in one figure with subplots."
   ]
  },
  {
   "cell_type": "code",
   "execution_count": 21,
   "metadata": {},
   "outputs": [
    {
     "data": {
      "image/png": "[encoded data removed]",
      "text/plain": [
       "<Figure size 1440x360 with 2 Axes>"
      ]
     },
     "metadata": {
      "needs_background": "light"
     },
     "output_type": "display_data"
    }
   ],
   "source": [
    "# Resize the chart, and have two plots side-by-side\n",
    "# set a larger figure size for subplots\n",
    "plt.figure(figsize = [20, 5]) \n",
    "\n",
    "# histogram on left, example of too-large bin size\n",
    "# 1 row, 2 cols, subplot 1\n",
    "plt.subplot(1, 2, 1) \n",
    "bins = 10 ** np.arange(0.5, 2+0.1, 0.05)\n",
    "ticks = [1, 3, 10, 30, 100]\n",
    "labels = ['{}'.format(v) for v in ticks]\n",
    "plt.hist(data = pisa, x = 'ST01Q01', bins = bins);\n",
    "plt.xscale('log');\n",
    "plt.xticks(ticks, labels);\n",
    "\n",
    "# histogram on right, example of too-small bin size\n",
    "plt.subplot(1, 2, 2) # 1 row, 2 cols, subplot 2\n",
    "bins = np.arange(0.5, pisa['ST01Q01'].max()+0.5, 1)\n",
    "plt.hist(data = pisa, x = 'ST01Q01', bins = bins);\n",
    "plt.xticks(np.arange(1, 21, 1));\n",
    "plt.xlim((5,15));"
   ]
  },
  {
   "cell_type": "markdown",
   "metadata": {},
   "source": [
    "### Grade compared to modal grade in country"
   ]
  },
  {
   "cell_type": "markdown",
   "metadata": {},
   "source": [
    "> I will start the exploration by looking at some general features of the variable using the functions `describe()` `value_counts()` and `head()`."
   ]
  },
  {
   "cell_type": "code",
   "execution_count": 22,
   "metadata": {},
   "outputs": [
    {
     "data": {
      "text/plain": [
       "count    484617.000000\n",
       "mean         -0.162964\n",
       "std           0.655558\n",
       "min          -3.000000\n",
       "25%           0.000000\n",
       "50%           0.000000\n",
       "75%           0.000000\n",
       "max           3.000000\n",
       "Name: GRADE, dtype: float64"
      ]
     },
     "execution_count": 22,
     "metadata": {},
     "output_type": "execute_result"
    }
   ],
   "source": [
    "pisa['GRADE'].describe()"
   ]
  },
  {
   "cell_type": "code",
   "execution_count": 23,
   "metadata": {},
   "outputs": [
    {
     "data": {
      "text/plain": [
       " 0.0    348298\n",
       "-1.0     76159\n",
       " 1.0     39179\n",
       "-2.0     15528\n",
       "-3.0      4370\n",
       " 2.0      1078\n",
       " 3.0         5\n",
       "Name: GRADE, dtype: int64"
      ]
     },
     "execution_count": 23,
     "metadata": {},
     "output_type": "execute_result"
    }
   ],
   "source": [
    "pisa['GRADE'].value_counts()"
   ]
  },
  {
   "cell_type": "code",
   "execution_count": 24,
   "metadata": {},
   "outputs": [
    {
     "data": {
      "text/plain": [
       "0    0.0\n",
       "1    0.0\n",
       "2   -1.0\n",
       "3   -1.0\n",
       "4   -1.0\n",
       "Name: GRADE, dtype: float64"
      ]
     },
     "execution_count": 24,
     "metadata": {},
     "output_type": "execute_result"
    }
   ],
   "source": [
    "pisa['GRADE'].head()"
   ]
  },
  {
   "cell_type": "markdown",
   "metadata": {},
   "source": [
    "> The variable is of type float, has its minimum at -3 and its maximum at 3. I am going to visualize the distribution in a histogram in the next step."
   ]
  },
  {
   "cell_type": "code",
   "execution_count": 25,
   "metadata": {},
   "outputs": [
    {
     "name": "stderr",
     "output_type": "stream",
     "text": [
      "/opt/anaconda3/lib/python3.7/site-packages/numpy/lib/histograms.py:839: RuntimeWarning: invalid value encountered in greater_equal\n",
      "  keep = (tmp_a >= first_edge)\n",
      "/opt/anaconda3/lib/python3.7/site-packages/numpy/lib/histograms.py:840: RuntimeWarning: invalid value encountered in less_equal\n",
      "  keep &= (tmp_a <= last_edge)\n"
     ]
    },
    {
     "data": {
      "image/png": "[encoded data removed]",
      "text/plain": [
       "<Figure size 432x288 with 1 Axes>"
      ]
     },
     "metadata": {
      "needs_background": "light"
     },
     "output_type": "display_data"
    }
   ],
   "source": [
    "# plotting histogram of grades compared to modal grade in country\n",
    "plt.hist(data = pisa, x = 'GRADE');"
   ]
  },
  {
   "cell_type": "markdown",
   "metadata": {},
   "source": [
    "> The visualization is not very nice, so I will change the bin size and the x-labels in the next visualization for better consumption. "
   ]
  },
  {
   "cell_type": "code",
   "execution_count": 26,
   "metadata": {},
   "outputs": [
    {
     "data": {
      "image/png": "[encoded data removed]",
      "text/plain": [
       "<Figure size 432x288 with 1 Axes>"
      ]
     },
     "metadata": {
      "needs_background": "light"
     },
     "output_type": "display_data"
    }
   ],
   "source": [
    "# change bin size\n",
    "bins = np.arange(-3.5, pisa['GRADE'].max()+1, 1)\n",
    "plt.hist(data = pisa, x = 'GRADE', bins = bins);\n",
    "plt.xticks(np.arange(-3, 3, 1));"
   ]
  },
  {
   "cell_type": "markdown",
   "metadata": {},
   "source": [
    "> The histogram shows that the data is rather normally distributed and has its peak at 0."
   ]
  },
  {
   "cell_type": "markdown",
   "metadata": {},
   "source": [
    "### OECD Status"
   ]
  },
  {
   "cell_type": "markdown",
   "metadata": {},
   "source": [
    "The next variable I will have a look at is the countries' OECD status by looking at some general features of the variable using the functions `describe()` `value_counts()` and `head()`."
   ]
  },
  {
   "cell_type": "code",
   "execution_count": 27,
   "metadata": {},
   "outputs": [
    {
     "data": {
      "text/plain": [
       "count     485490\n",
       "unique         2\n",
       "top         OECD\n",
       "freq      295416\n",
       "Name: OECD, dtype: object"
      ]
     },
     "execution_count": 27,
     "metadata": {},
     "output_type": "execute_result"
    }
   ],
   "source": [
    "pisa['OECD'].describe()"
   ]
  },
  {
   "cell_type": "code",
   "execution_count": 28,
   "metadata": {},
   "outputs": [
    {
     "data": {
      "text/plain": [
       "OECD        295416\n",
       "Non-OECD    190074\n",
       "Name: OECD, dtype: int64"
      ]
     },
     "execution_count": 28,
     "metadata": {},
     "output_type": "execute_result"
    }
   ],
   "source": [
    "pisa['OECD'].value_counts()"
   ]
  },
  {
   "cell_type": "code",
   "execution_count": 29,
   "metadata": {},
   "outputs": [
    {
     "data": {
      "text/plain": [
       "0    Non-OECD\n",
       "1    Non-OECD\n",
       "2    Non-OECD\n",
       "3    Non-OECD\n",
       "4    Non-OECD\n",
       "Name: OECD, dtype: object"
      ]
     },
     "execution_count": 29,
     "metadata": {},
     "output_type": "execute_result"
    }
   ],
   "source": [
    "pisa['OECD'].head()"
   ]
  },
  {
   "cell_type": "markdown",
   "metadata": {},
   "source": [
    "> The variable is of type object and has two dimensions 'OECD' and 'Non-OECD'. In order to have a look at the distribution between these two values I will plot a pie chart. "
   ]
  },
  {
   "cell_type": "code",
   "execution_count": 30,
   "metadata": {},
   "outputs": [
    {
     "data": {
      "image/png": "[encoded data removed]",
      "text/plain": [
       "<Figure size 432x288 with 1 Axes>"
      ]
     },
     "metadata": {},
     "output_type": "display_data"
    }
   ],
   "source": [
    "# overview of the distribution of OECD countrys vs non-OECD countries\n",
    "sorted_counts = pisa['OECD'].value_counts()\n",
    "plt.pie(sorted_counts, labels = sorted_counts.index, startangle = 90, counterclock = False);\n",
    "plt.axis('square');"
   ]
  },
  {
   "cell_type": "markdown",
   "metadata": {},
   "source": [
    "> The data shows that roughly 60% of the countries have a OECD status."
   ]
  },
  {
   "cell_type": "markdown",
   "metadata": {},
   "source": [
    "### Immigration status"
   ]
  },
  {
   "cell_type": "markdown",
   "metadata": {},
   "source": [
    "> The next variable I will have a look at is the students' immigration status by looking at some general features of the variable using the functions `describe()` `value_counts()` and `head()`."
   ]
  },
  {
   "cell_type": "code",
   "execution_count": 31,
   "metadata": {},
   "outputs": [
    {
     "data": {
      "text/plain": [
       "count     471793\n",
       "unique         3\n",
       "top       Native\n",
       "freq      417347\n",
       "Name: IMMIG, dtype: object"
      ]
     },
     "execution_count": 31,
     "metadata": {},
     "output_type": "execute_result"
    }
   ],
   "source": [
    "pisa['IMMIG'].describe()"
   ]
  },
  {
   "cell_type": "code",
   "execution_count": 32,
   "metadata": {},
   "outputs": [
    {
     "data": {
      "text/plain": [
       "Native               417347\n",
       "Second-Generation     28268\n",
       "First-Generation      26178\n",
       "Name: IMMIG, dtype: int64"
      ]
     },
     "execution_count": 32,
     "metadata": {},
     "output_type": "execute_result"
    }
   ],
   "source": [
    "pisa['IMMIG'].value_counts()"
   ]
  },
  {
   "cell_type": "code",
   "execution_count": 33,
   "metadata": {},
   "outputs": [
    {
     "data": {
      "text/plain": [
       "0    Native\n",
       "1    Native\n",
       "2    Native\n",
       "3    Native\n",
       "4    Native\n",
       "Name: IMMIG, dtype: object"
      ]
     },
     "execution_count": 33,
     "metadata": {},
     "output_type": "execute_result"
    }
   ],
   "source": [
    "pisa['IMMIG'].head()"
   ]
  },
  {
   "cell_type": "markdown",
   "metadata": {},
   "source": [
    "> The variable is of type object and has three dimensions 'Native', 'First-Generation' and 'Second-Generation'. In order to have a look at the distribution between these three values I will plot a pie chart. "
   ]
  },
  {
   "cell_type": "code",
   "execution_count": 34,
   "metadata": {},
   "outputs": [
    {
     "data": {
      "image/png": "[encoded data removed]",
      "text/plain": [
       "<Figure size 432x288 with 1 Axes>"
      ]
     },
     "metadata": {},
     "output_type": "display_data"
    }
   ],
   "source": [
    "# overview of the distribution of the immigration status\n",
    "sorted_counts = pisa['IMMIG'].value_counts()\n",
    "plt.pie(sorted_counts, labels = sorted_counts.index, startangle = 90, counterclock = False);\n",
    "plt.axis('square');"
   ]
  },
  {
   "cell_type": "markdown",
   "metadata": {},
   "source": [
    "> The data shows that roughly 90% of the students are native, 5% have an immigration status of 'First-Generation' and 5% of 'Second-Generation'."
   ]
  },
  {
   "cell_type": "markdown",
   "metadata": {},
   "source": [
    "### Gender"
   ]
  },
  {
   "cell_type": "markdown",
   "metadata": {},
   "source": [
    "> The next variable I will have a look at is the students gender by looking at some general features of the variable using the functions `describe()` `value_counts()` and `head()`."
   ]
  },
  {
   "cell_type": "code",
   "execution_count": 35,
   "metadata": {},
   "outputs": [
    {
     "data": {
      "text/plain": [
       "count     485490\n",
       "unique         2\n",
       "top       Female\n",
       "freq      245064\n",
       "Name: ST04Q01, dtype: object"
      ]
     },
     "execution_count": 35,
     "metadata": {},
     "output_type": "execute_result"
    }
   ],
   "source": [
    "pisa['ST04Q01'].describe()"
   ]
  },
  {
   "cell_type": "code",
   "execution_count": 36,
   "metadata": {},
   "outputs": [
    {
     "data": {
      "text/plain": [
       "Female    245064\n",
       "Male      240426\n",
       "Name: ST04Q01, dtype: int64"
      ]
     },
     "execution_count": 36,
     "metadata": {},
     "output_type": "execute_result"
    }
   ],
   "source": [
    "pisa['ST04Q01'].value_counts()"
   ]
  },
  {
   "cell_type": "code",
   "execution_count": 37,
   "metadata": {},
   "outputs": [
    {
     "data": {
      "text/plain": [
       "0    Female\n",
       "1    Female\n",
       "2    Female\n",
       "3    Female\n",
       "4    Female\n",
       "Name: ST04Q01, dtype: object"
      ]
     },
     "execution_count": 37,
     "metadata": {},
     "output_type": "execute_result"
    }
   ],
   "source": [
    "pisa['ST04Q01'].head()"
   ]
  },
  {
   "cell_type": "markdown",
   "metadata": {},
   "source": [
    "> The variable is of type object and has two dimensions 'Male' and 'Female'. In order to have a look at the distribution between these two values I will plot a pie chart. "
   ]
  },
  {
   "cell_type": "code",
   "execution_count": 38,
   "metadata": {},
   "outputs": [
    {
     "data": {
      "image/png": "[encoded data removed]",
      "text/plain": [
       "<Figure size 432x288 with 1 Axes>"
      ]
     },
     "metadata": {},
     "output_type": "display_data"
    }
   ],
   "source": [
    "# overview of the distribution of the immigration status\n",
    "sorted_counts = pisa['ST04Q01'].value_counts()\n",
    "plt.pie(sorted_counts, labels = sorted_counts.index, startangle = 90, counterclock = False);\n",
    "plt.axis('square');"
   ]
  },
  {
   "cell_type": "markdown",
   "metadata": {},
   "source": [
    "> The data shows that both genders are evenly represented in the data.  "
   ]
  },
  {
   "cell_type": "markdown",
   "metadata": {},
   "source": [
    "### Country code 3-character"
   ]
  },
  {
   "cell_type": "markdown",
   "metadata": {},
   "source": [
    "> The next variable I will have a look at is the country code by looking at some general features of the variable using the functions `describe()` `value_counts()` and `head()`."
   ]
  },
  {
   "cell_type": "code",
   "execution_count": 39,
   "metadata": {},
   "outputs": [
    {
     "data": {
      "text/plain": [
       "count     485490\n",
       "unique        68\n",
       "top       Mexico\n",
       "freq       33806\n",
       "Name: CNT, dtype: object"
      ]
     },
     "execution_count": 39,
     "metadata": {},
     "output_type": "execute_result"
    }
   ],
   "source": [
    "pisa['CNT'].describe()"
   ]
  },
  {
   "cell_type": "code",
   "execution_count": 40,
   "metadata": {},
   "outputs": [
    {
     "data": {
      "text/plain": [
       "Mexico                      33806\n",
       "Italy                       31073\n",
       "Spain                       25313\n",
       "Canada                      21544\n",
       "Brazil                      19204\n",
       "                            ...  \n",
       "Florida (USA)                1896\n",
       "Perm(Russian Federation)     1761\n",
       "Massachusetts (USA)          1723\n",
       "Connecticut (USA)            1697\n",
       "Liechtenstein                 293\n",
       "Name: CNT, Length: 68, dtype: int64"
      ]
     },
     "execution_count": 40,
     "metadata": {},
     "output_type": "execute_result"
    }
   ],
   "source": [
    "pisa['CNT'].value_counts()"
   ]
  },
  {
   "cell_type": "markdown",
   "metadata": {},
   "source": [
    "> There are some entries for states that belong to the USA. Let's have a deeper look at the CNT values."
   ]
  },
  {
   "cell_type": "code",
   "execution_count": 41,
   "metadata": {},
   "outputs": [
    {
     "data": {
      "text/plain": [
       "Index(['Albania', 'Argentina', 'Australia', 'Austria', 'Belgium', 'Brazil',\n",
       "       'Bulgaria', 'Canada', 'Chile', 'China-Shanghai', 'Chinese Taipei',\n",
       "       'Colombia', 'Connecticut (USA)', 'Costa Rica', 'Croatia',\n",
       "       'Czech Republic', 'Denmark', 'Estonia', 'Finland', 'Florida (USA)',\n",
       "       'France', 'Germany', 'Greece', 'Hong Kong-China', 'Hungary', 'Iceland',\n",
       "       'Indonesia', 'Ireland', 'Israel', 'Italy', 'Japan', 'Jordan',\n",
       "       'Kazakhstan', 'Korea', 'Latvia', 'Liechtenstein', 'Lithuania',\n",
       "       'Luxembourg', 'Macao-China', 'Malaysia', 'Massachusetts (USA)',\n",
       "       'Mexico', 'Montenegro', 'Netherlands', 'New Zealand', 'Norway',\n",
       "       'Perm(Russian Federation)', 'Peru', 'Poland', 'Portugal', 'Qatar',\n",
       "       'Romania', 'Russian Federation', 'Serbia', 'Singapore',\n",
       "       'Slovak Republic', 'Slovenia', 'Spain', 'Sweden', 'Switzerland',\n",
       "       'Thailand', 'Tunisia', 'Turkey', 'United Arab Emirates',\n",
       "       'United Kingdom', 'United States of America', 'Uruguay', 'Vietnam'],\n",
       "      dtype='object')"
      ]
     },
     "execution_count": 41,
     "metadata": {},
     "output_type": "execute_result"
    }
   ],
   "source": [
    "# Get all the CNT values in one list\n",
    "pisa['CNT'].value_counts().index.sort_values()"
   ]
  },
  {
   "cell_type": "markdown",
   "metadata": {},
   "source": [
    "#### Data cleaning"
   ]
  },
  {
   "cell_type": "markdown",
   "metadata": {},
   "source": [
    "##### Define\n",
    "1. 'Conneticut (USA)', 'Florida (USA)', 'Massachusetts (USA)' and 'USA' will be renamed to 'USA'.\n",
    "2. 'Perm(Russian Federation)' and 'Russian Federation' will be renamed to 'Russia'\n",
    "3. 'Hong Kong-China' and 'Macao-China' will be renamed to 'China'"
   ]
  },
  {
   "cell_type": "markdown",
   "metadata": {},
   "source": [
    "##### Code"
   ]
  },
  {
   "cell_type": "code",
   "execution_count": 42,
   "metadata": {},
   "outputs": [],
   "source": [
    "pisa['CNT'] = pisa['CNT'].replace('Connecticut (USA)', 'USA')\n",
    "pisa['CNT'] = pisa['CNT'].replace('Florida (USA)', 'USA')\n",
    "pisa['CNT'] = pisa['CNT'].replace('Massachusetts (USA)', 'USA')\n",
    "pisa['CNT'] = pisa['CNT'].replace('United States of America', 'USA')\n",
    "pisa['CNT'] = pisa['CNT'].replace('Perm(Russian Federation)', 'Russia')\n",
    "pisa['CNT'] = pisa['CNT'].replace('Russian Federation', 'Russia')\n",
    "pisa['CNT'] = pisa['CNT'].replace('Hong Kong-China', 'China')\n",
    "pisa['CNT'] = pisa['CNT'].replace('Macao-China', 'China')"
   ]
  },
  {
   "cell_type": "markdown",
   "metadata": {},
   "source": [
    "##### Test"
   ]
  },
  {
   "cell_type": "code",
   "execution_count": 43,
   "metadata": {},
   "outputs": [
    {
     "data": {
      "text/plain": [
       "(0, 636)"
      ]
     },
     "execution_count": 43,
     "metadata": {},
     "output_type": "execute_result"
    }
   ],
   "source": [
    "pisa[pisa['CNT'] == 'Connecticut (USA)'].shape"
   ]
  },
  {
   "cell_type": "code",
   "execution_count": 44,
   "metadata": {},
   "outputs": [
    {
     "data": {
      "text/plain": [
       "(0, 636)"
      ]
     },
     "execution_count": 44,
     "metadata": {},
     "output_type": "execute_result"
    }
   ],
   "source": [
    "pisa[pisa['CNT'] == 'Florida (USA)'].shape"
   ]
  },
  {
   "cell_type": "code",
   "execution_count": 45,
   "metadata": {},
   "outputs": [
    {
     "data": {
      "text/plain": [
       "(0, 636)"
      ]
     },
     "execution_count": 45,
     "metadata": {},
     "output_type": "execute_result"
    }
   ],
   "source": [
    "pisa[pisa['CNT'] == 'Massachusetts (USA)'].shape"
   ]
  },
  {
   "cell_type": "code",
   "execution_count": 46,
   "metadata": {},
   "outputs": [
    {
     "data": {
      "text/plain": [
       "(0, 636)"
      ]
     },
     "execution_count": 46,
     "metadata": {},
     "output_type": "execute_result"
    }
   ],
   "source": [
    "pisa[pisa['CNT'] == 'United States of America'].shape"
   ]
  },
  {
   "cell_type": "code",
   "execution_count": 47,
   "metadata": {},
   "outputs": [
    {
     "data": {
      "text/plain": [
       "(0, 636)"
      ]
     },
     "execution_count": 47,
     "metadata": {},
     "output_type": "execute_result"
    }
   ],
   "source": [
    "pisa[pisa['CNT'] == 'Perm(Russian Federation)'].shape"
   ]
  },
  {
   "cell_type": "code",
   "execution_count": 48,
   "metadata": {},
   "outputs": [
    {
     "data": {
      "text/plain": [
       "(0, 636)"
      ]
     },
     "execution_count": 48,
     "metadata": {},
     "output_type": "execute_result"
    }
   ],
   "source": [
    "pisa[pisa['CNT'] == 'Russian Federation'].shape"
   ]
  },
  {
   "cell_type": "code",
   "execution_count": 49,
   "metadata": {},
   "outputs": [
    {
     "data": {
      "text/plain": [
       "(0, 636)"
      ]
     },
     "execution_count": 49,
     "metadata": {},
     "output_type": "execute_result"
    }
   ],
   "source": [
    "pisa[pisa['CNT'] == 'Hong Kong-China'].shape"
   ]
  },
  {
   "cell_type": "code",
   "execution_count": 50,
   "metadata": {},
   "outputs": [
    {
     "data": {
      "text/plain": [
       "(0, 636)"
      ]
     },
     "execution_count": 50,
     "metadata": {},
     "output_type": "execute_result"
    }
   ],
   "source": [
    "pisa[pisa['CNT'] == 'Macao-China'].shape"
   ]
  },
  {
   "cell_type": "code",
   "execution_count": 51,
   "metadata": {},
   "outputs": [
    {
     "data": {
      "text/plain": [
       "(10294, 636)"
      ]
     },
     "execution_count": 51,
     "metadata": {},
     "output_type": "execute_result"
    }
   ],
   "source": [
    "pisa[pisa['CNT'] == 'USA'].shape"
   ]
  },
  {
   "cell_type": "code",
   "execution_count": 52,
   "metadata": {},
   "outputs": [
    {
     "data": {
      "text/plain": [
       "(6992, 636)"
      ]
     },
     "execution_count": 52,
     "metadata": {},
     "output_type": "execute_result"
    }
   ],
   "source": [
    "pisa[pisa['CNT'] == 'Russia'].shape"
   ]
  },
  {
   "cell_type": "code",
   "execution_count": 53,
   "metadata": {},
   "outputs": [
    {
     "data": {
      "text/plain": [
       "(10005, 636)"
      ]
     },
     "execution_count": 53,
     "metadata": {},
     "output_type": "execute_result"
    }
   ],
   "source": [
    "pisa[pisa['CNT'] == 'China'].shape"
   ]
  },
  {
   "cell_type": "code",
   "execution_count": 55,
   "metadata": {},
   "outputs": [
    {
     "data": {
      "text/plain": [
       "Mexico           33806\n",
       "Italy            31073\n",
       "Spain            25313\n",
       "Canada           21544\n",
       "Brazil           19204\n",
       "                 ...  \n",
       "Tunisia           4407\n",
       "Latvia            4306\n",
       "New Zealand       4291\n",
       "Iceland           3508\n",
       "Liechtenstein      293\n",
       "Name: CNT, Length: 63, dtype: int64"
      ]
     },
     "execution_count": 55,
     "metadata": {},
     "output_type": "execute_result"
    }
   ],
   "source": [
    "pisa['CNT'].value_counts()"
   ]
  },
  {
   "cell_type": "markdown",
   "metadata": {},
   "source": [
    "> I cleaned the issue that sometimes there were separate datapoints for the same countries. \n",
    "- The data for 'Conneticut (USA)', Florida (USA) and 'Massachusetts (USA)' have been assigned to the country 'USA' \n",
    "- Perm(Russian Federation) has been assigned to the country 'Russia'\n",
    "- 'Hong Kong-China' and 'Macao-China' have been assigned to the country 'China'"
   ]
  },
  {
   "cell_type": "markdown",
   "metadata": {},
   "source": [
    "> The variable is of type object and has 63 different values. In order to have a look at the distribution between these values I will plot a bar chart. "
   ]
  },
  {
   "cell_type": "code",
   "execution_count": 76,
   "metadata": {},
   "outputs": [
    {
     "data": {
      "image/png": "[encoded data removed]",
      "text/plain": [
       "<Figure size 1800x1800 with 1 Axes>"
      ]
     },
     "metadata": {
      "needs_background": "light"
     },
     "output_type": "display_data"
    }
   ],
   "source": [
    "# ordering the countries by frequency\n",
    "freq = pisa['CNT'].value_counts()\n",
    "gen_order = freq.index\n",
    "\n",
    "# setting base color to blue\n",
    "base_color = sb.color_palette()[0]\n",
    "\n",
    "# plotting the bar chart horizontally for better reading the countries\n",
    "sb.countplot(data=pisa, y='CNT', color=base_color, order=gen_order);\n",
    "\n",
    "# increasing figsize\n",
    "rcParams['figure.figsize'] = 25,25"
   ]
  },
  {
   "cell_type": "markdown",
   "metadata": {},
   "source": [
    "> The most students participated in this study are from Mexico, Italy, Spain, Canada and Brazil. "
   ]
  },
  {
   "cell_type": "markdown",
   "metadata": {},
   "source": [
    "### Discuss the distribution(s) of your variable(s) of interest. Were there any unusual points? Did you need to perform any transformations?\n",
    "\n",
    "> In the 'International Grades' data were some outliers with the value of 96 whereas the mean was 9.8 and the standard deviation 3.7. In the histogram I limited range on the x-axis, so the outliers were hidden and the histogram showed a normal distribution.\n",
    "\n",
    "\n",
    "\n",
    "### Of the features you investigated, were there any unusual distributions? Did you perform any operations on the data to tidy, adjust, or change the form of the data? If so, why did you do this?\n",
    "\n",
    "> There were some datapoints in the 'CNT' data separated, even though belonged to the same country. I cleaned that and assigned the data new\n",
    "- The data for 'Conneticut (USA)', Florida (USA) and 'Massachusetts (USA)' have been assigned to the country 'USA' \n",
    "- Perm(Russian Federation) has been assigned to the country 'Russia'\n",
    "- 'Hong Kong-China' and 'Macao-China' have been assigned to the country 'China'\n"
   ]
  },
  {
   "cell_type": "markdown",
   "metadata": {},
   "source": [
    "## Bivariate Exploration\n",
    "\n",
    "> In this section, investigate relationships between pairs of variables in your\n",
    "data. Make sure the variables that you cover here have been introduced in some\n",
    "fashion in the previous section (univariate exploration)."
   ]
  },
  {
   "cell_type": "code",
   "execution_count": null,
   "metadata": {},
   "outputs": [],
   "source": []
  },
  {
   "cell_type": "markdown",
   "metadata": {},
   "source": [
    "### Talk about some of the relationships you observed in this part of the investigation. How did the feature(s) of interest vary with other features in the dataset?\n",
    "\n",
    "> Your answer here!\n",
    "\n",
    "### Did you observe any interesting relationships between the other features (not the main feature(s) of interest)?\n",
    "\n",
    "> Your answer here!"
   ]
  },
  {
   "cell_type": "markdown",
   "metadata": {},
   "source": [
    "## Multivariate Exploration\n",
    "\n",
    "> Create plots of three or more variables to investigate your data even\n",
    "further. Make sure that your investigations are justified, and follow from\n",
    "your work in the previous sections."
   ]
  },
  {
   "cell_type": "code",
   "execution_count": null,
   "metadata": {},
   "outputs": [],
   "source": []
  },
  {
   "cell_type": "markdown",
   "metadata": {},
   "source": [
    "### Talk about some of the relationships you observed in this part of the investigation. Were there features that strengthened each other in terms of looking at your feature(s) of interest?\n",
    "\n",
    "> Your answer here!\n",
    "\n",
    "### Were there any interesting or surprising interactions between features?\n",
    "\n",
    "> Your answer here!"
   ]
  },
  {
   "cell_type": "markdown",
   "metadata": {},
   "source": [
    "> At the end of your report, make sure that you export the notebook as an\n",
    "html file from the `File > Download as... > HTML` menu. Make sure you keep\n",
    "track of where the exported file goes, so you can put it in the same folder\n",
    "as this notebook for project submission. Also, make sure you remove all of\n",
    "the quote-formatted guide notes like this one before you finish your report!"
   ]
  },
  {
   "cell_type": "code",
   "execution_count": null,
   "metadata": {},
   "outputs": [],
   "source": []
  },
  {
   "cell_type": "code",
   "execution_count": null,
   "metadata": {},
   "outputs": [],
   "source": []
  },
  {
   "cell_type": "markdown",
   "metadata": {},
   "source": [
    "# Sources"
   ]
  },
  {
   "cell_type": "markdown",
   "metadata": {},
   "source": [
    "- https://knowledge.udacity.com/questions/135696"
   ]
  },
  {
   "cell_type": "code",
   "execution_count": null,
   "metadata": {},
   "outputs": [],
   "source": []
  }
 ],
 "metadata": {
  "kernelspec": {
   "display_name": "Python 3",
   "language": "python",
   "name": "python3"
  },
  "language_info": {
   "codemirror_mode": {
    "name": "ipython",
    "version": 3
   },
   "file_extension": ".py",
   "mimetype": "text/x-python",
   "name": "python",
   "nbconvert_exporter": "python",
   "pygments_lexer": "ipython3",
   "version": "3.7.7"
  }
 },
 "nbformat": 4,
 "nbformat_minor": 2
}
